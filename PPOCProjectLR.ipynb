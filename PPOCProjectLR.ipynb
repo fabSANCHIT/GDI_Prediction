{
  "nbformat": 4,
  "nbformat_minor": 0,
  "metadata": {
    "colab": {
      "provenance": []
    },
    "kernelspec": {
      "name": "python3",
      "display_name": "Python 3"
    },
    "language_info": {
      "name": "python"
    }
  },
  "cells": [
    {
      "cell_type": "code",
      "execution_count": null,
      "metadata": {
        "id": "CBEqTpkd40uA"
      },
      "outputs": [],
      "source": [
        "import numpy as np\n",
        "import matplotlib.pyplot as plt\n",
        "import pandas as pd"
      ]
    },
    {
      "cell_type": "markdown",
      "source": [
        "The Following Model predicts **Gender Development Index**.\n",
        "The features used are : *Life Expectancy at Birth*(years), *Mean Years of Schooling*(years) and *Gross National Income Per Capita (PPP$)*"
      ],
      "metadata": {
        "id": "9rcDwKwRD9wZ"
      }
    },
    {
      "cell_type": "code",
      "source": [
        "dataset = pd.read_csv('/content/India.csv')\n",
        "print(dataset)"
      ],
      "metadata": {
        "colab": {
          "base_uri": "https://localhost:8080/"
        },
        "id": "v3kGX5QaUezg",
        "outputId": "d1128733-01f8-48b5-9c0d-dc4e647134c6",
        "collapsed": true
      },
      "execution_count": null,
      "outputs": [
        {
          "output_type": "stream",
          "name": "stdout",
          "text": [
            "                          key        value\n",
            "0                        ISO3          IND\n",
            "1            HDR Country Name        India\n",
            "2    Human Development Groups       Medium\n",
            "3    UNDP Developeing Regions           SA\n",
            "4             HDI Rank (2021)          132\n",
            "..                        ...          ...\n",
            "955                Sanitation  9.112136171\n",
            "956            Drinking water  2.151176198\n",
            "957               Electricity  1.677027292\n",
            "958                   Housing  10.98558323\n",
            "959                    Assets  4.523061673\n",
            "\n",
            "[960 rows x 2 columns]\n"
          ]
        }
      ]
    },
    {
      "cell_type": "markdown",
      "source": [
        "Creating an array of Years"
      ],
      "metadata": {
        "id": "x3IJW-k6EC2q"
      }
    },
    {
      "cell_type": "code",
      "source": [
        "X1 = np.arange(1990,2022)\n",
        "print (X1)"
      ],
      "metadata": {
        "colab": {
          "base_uri": "https://localhost:8080/"
        },
        "id": "t1H2JJC1dofT",
        "outputId": "7796c679-cc9c-4e99-d9ae-9e06d38ff4f6"
      },
      "execution_count": null,
      "outputs": [
        {
          "output_type": "stream",
          "name": "stdout",
          "text": [
            "[1990 1991 1992 1993 1994 1995 1996 1997 1998 1999 2000 2001 2002 2003\n",
            " 2004 2005 2006 2007 2008 2009 2010 2011 2012 2013 2014 2015 2016 2017\n",
            " 2018 2019 2020 2021]\n"
          ]
        }
      ]
    },
    {
      "cell_type": "markdown",
      "source": [
        "Creating an Array for Life Expectancy at Birth"
      ],
      "metadata": {
        "id": "rORlCovCEPMZ"
      }
    },
    {
      "cell_type": "code",
      "source": [
        "X2 = dataset.iloc[37:69,1].values\n",
        "print (X2)"
      ],
      "metadata": {
        "id": "vUrp7QMgVTM4",
        "colab": {
          "base_uri": "https://localhost:8080/"
        },
        "outputId": "cab8e3fe-cd48-4c4f-c62e-c8fdb5bb8e13"
      },
      "execution_count": null,
      "outputs": [
        {
          "output_type": "stream",
          "name": "stdout",
          "text": [
            "['58.6516' '59.0547' '59.4524' '59.8152' '60.2158' '60.5962' '60.9841'\n",
            " '61.3876' '61.7919' '62.2069' '62.6693' '63.0913' '63.616' '64.0942'\n",
            " '64.5244' '64.99550000000001' '65.4123' '65.7884' '66.149' '66.5132'\n",
            " '66.90860000000001' '67.35899999999999' '67.88720000000001' '68.4598'\n",
            " '69.0736' '69.63630000000001' '70.11669999999999' '70.46720000000001'\n",
            " '70.70950000000001' '70.9098' '70.1499' '67.2398']\n"
          ]
        }
      ]
    },
    {
      "cell_type": "markdown",
      "source": [
        "Creating an array for Mean years of Schooling"
      ],
      "metadata": {
        "id": "0rohIUCmbk2K"
      }
    },
    {
      "cell_type": "code",
      "source": [
        "X3 = dataset.iloc[101:133,1].values\n",
        "print (X3)"
      ],
      "metadata": {
        "colab": {
          "base_uri": "https://localhost:8080/"
        },
        "id": "PQ4y5o8Waq9v",
        "outputId": "7c41819d-6542-4396-e81a-aca7002e39a4"
      },
      "execution_count": null,
      "outputs": [
        {
          "output_type": "stream",
          "name": "stdout",
          "text": [
            "['2.78157628' '2.884945669' '2.988315058' '3.091684447' '3.195053836'\n",
            " '3.298423224' '3.467573133' '3.636723042' '3.805872951' '3.97502286'\n",
            " '4.144172769' '4.22122995' '4.298287131' '4.375344311' '4.452401492'\n",
            " '4.529458673' '4.636586948' '4.743715224' '4.8508435' '4.957971775'\n",
            " '5.065100051' '5.301909924' '5.538719796' '5.775529669' '6.012339541'\n",
            " '6.249149414' '6.350639359' '6.452129304' '6.55361925' '6.655109195'\n",
            " '6.655109195' '6.655109195']\n"
          ]
        }
      ]
    },
    {
      "cell_type": "markdown",
      "source": [
        "Creating an array for GNI per capita (PPP$)"
      ],
      "metadata": {
        "id": "m3yxR1KjejyB"
      }
    },
    {
      "cell_type": "code",
      "source": [
        "X4 = dataset.iloc[133:165,1].values\n",
        "print (X4)"
      ],
      "metadata": {
        "colab": {
          "base_uri": "https://localhost:8080/"
        },
        "id": "lCHqcOKaegsg",
        "outputId": "c735ae66-a52e-4536-969d-f31ebac7ebda"
      },
      "execution_count": null,
      "outputs": [
        {
          "output_type": "stream",
          "name": "stdout",
          "text": [
            "['1790.407349' '1768.858819' '1828.853344' '1880.994675' '1969.856125'\n",
            " '2082.000116' '2201.077996' '2249.544553' '2345.162554' '2509.046377'\n",
            " '2552.804903' '2634.934649' '2694.230739' '2856.486272' '3034.450608'\n",
            " '3222.757097' '3426.91817' '3646.928626' '3698.175689' '3933.116277'\n",
            " '4189.433074' '4361.090551' '4529.016173' '4758.303085' '5056.665926'\n",
            " '5401.490996' '5732.913931' '6116.059654' '6449.18609' '6650.054097'\n",
            " '6107.493949' '6589.980037']\n"
          ]
        }
      ]
    },
    {
      "cell_type": "markdown",
      "source": [
        "Creating array X using arrays X1, X2, X3, X4"
      ],
      "metadata": {
        "id": "wEDgnBrnEZQ1"
      }
    },
    {
      "cell_type": "code",
      "source": [
        "print(X1.shape)\n",
        "print(X2.shape)\n",
        "print(X3.shape)\n",
        "print(X4.shape)\n",
        "X1 = X1.reshape(X1.shape[0],1)\n",
        "X2 = X2.reshape(X2.shape[0],1)\n",
        "X3 = X3.reshape(X3.shape[0],1)\n",
        "X4 = X4.reshape(X4.shape[0],1)\n",
        "X = np.append(X1,X2,axis=1)\n",
        "X = np.append(X,X3,axis=1)\n",
        "X = np.append(X,X4,axis=1)"
      ],
      "metadata": {
        "colab": {
          "base_uri": "https://localhost:8080/"
        },
        "id": "xFqSSuUJdDR4",
        "outputId": "3cdf9484-12bb-439a-8b9e-b64249aa47b6"
      },
      "execution_count": null,
      "outputs": [
        {
          "output_type": "stream",
          "name": "stdout",
          "text": [
            "(32,)\n",
            "(32,)\n",
            "(32,)\n",
            "(32,)\n"
          ]
        }
      ]
    },
    {
      "cell_type": "code",
      "source": [
        "print (X.shape)"
      ],
      "metadata": {
        "colab": {
          "base_uri": "https://localhost:8080/"
        },
        "id": "fgOqchycdOCX",
        "outputId": "7ce74822-a398-48d2-ddec-8851303a4896"
      },
      "execution_count": null,
      "outputs": [
        {
          "output_type": "stream",
          "name": "stdout",
          "text": [
            "(32, 4)\n"
          ]
        }
      ]
    },
    {
      "cell_type": "code",
      "source": [
        "X #contains four columns (year, corresponding Life Expectancy (yrs), corresponding Mean years of schooling(yrs) and corresponding Gross National Income per capita (PPP$))"
      ],
      "metadata": {
        "colab": {
          "base_uri": "https://localhost:8080/"
        },
        "id": "mmhn7mFWhAzp",
        "outputId": "389d78ec-b159-4a8f-f16e-1fe1cba9b199"
      },
      "execution_count": null,
      "outputs": [
        {
          "output_type": "execute_result",
          "data": {
            "text/plain": [
              "array([[1990, '58.6516', '2.78157628', '1790.407349'],\n",
              "       [1991, '59.0547', '2.884945669', '1768.858819'],\n",
              "       [1992, '59.4524', '2.988315058', '1828.853344'],\n",
              "       [1993, '59.8152', '3.091684447', '1880.994675'],\n",
              "       [1994, '60.2158', '3.195053836', '1969.856125'],\n",
              "       [1995, '60.5962', '3.298423224', '2082.000116'],\n",
              "       [1996, '60.9841', '3.467573133', '2201.077996'],\n",
              "       [1997, '61.3876', '3.636723042', '2249.544553'],\n",
              "       [1998, '61.7919', '3.805872951', '2345.162554'],\n",
              "       [1999, '62.2069', '3.97502286', '2509.046377'],\n",
              "       [2000, '62.6693', '4.144172769', '2552.804903'],\n",
              "       [2001, '63.0913', '4.22122995', '2634.934649'],\n",
              "       [2002, '63.616', '4.298287131', '2694.230739'],\n",
              "       [2003, '64.0942', '4.375344311', '2856.486272'],\n",
              "       [2004, '64.5244', '4.452401492', '3034.450608'],\n",
              "       [2005, '64.99550000000001', '4.529458673', '3222.757097'],\n",
              "       [2006, '65.4123', '4.636586948', '3426.91817'],\n",
              "       [2007, '65.7884', '4.743715224', '3646.928626'],\n",
              "       [2008, '66.149', '4.8508435', '3698.175689'],\n",
              "       [2009, '66.5132', '4.957971775', '3933.116277'],\n",
              "       [2010, '66.90860000000001', '5.065100051', '4189.433074'],\n",
              "       [2011, '67.35899999999999', '5.301909924', '4361.090551'],\n",
              "       [2012, '67.88720000000001', '5.538719796', '4529.016173'],\n",
              "       [2013, '68.4598', '5.775529669', '4758.303085'],\n",
              "       [2014, '69.0736', '6.012339541', '5056.665926'],\n",
              "       [2015, '69.63630000000001', '6.249149414', '5401.490996'],\n",
              "       [2016, '70.11669999999999', '6.350639359', '5732.913931'],\n",
              "       [2017, '70.46720000000001', '6.452129304', '6116.059654'],\n",
              "       [2018, '70.70950000000001', '6.55361925', '6449.18609'],\n",
              "       [2019, '70.9098', '6.655109195', '6650.054097'],\n",
              "       [2020, '70.1499', '6.655109195', '6107.493949'],\n",
              "       [2021, '67.2398', '6.655109195', '6589.980037']], dtype=object)"
            ]
          },
          "metadata": {},
          "execution_count": 41
        }
      ]
    },
    {
      "cell_type": "markdown",
      "source": [
        "Creating an Array of actual corresponding Gender Development Index (GDI) values"
      ],
      "metadata": {
        "id": "mwrT1XlfEhqh"
      }
    },
    {
      "cell_type": "code",
      "source": [
        "Y = dataset.iloc[166:198,1].values\n",
        "Y.shape\n",
        "Y"
      ],
      "metadata": {
        "colab": {
          "base_uri": "https://localhost:8080/"
        },
        "id": "PDOBcbkShisi",
        "outputId": "caf95153-7bab-4071-9fc5-8506081b62ec"
      },
      "execution_count": null,
      "outputs": [
        {
          "output_type": "execute_result",
          "data": {
            "text/plain": [
              "array(['.707', '.707', '.71', '.711', '.714', '.717', '.726', '.734',\n",
              "       '.741', '.75', '.757', '.759', '.763', '.78', '.784', '.787',\n",
              "       '.79', '.793', '.797', '.803', '.8100000000000001',\n",
              "       '.8129999999999999', '.826', '.831', '.835', '.838', '.848',\n",
              "       '.851', '.849', '.852', '.845', '.849'], dtype=object)"
            ]
          },
          "metadata": {},
          "execution_count": 42
        }
      ]
    },
    {
      "cell_type": "markdown",
      "source": [
        "Splitting the examples for training and testing the model"
      ],
      "metadata": {
        "id": "EzC1XjV-EkUa"
      }
    },
    {
      "cell_type": "code",
      "source": [
        "from sklearn.model_selection import train_test_split\n",
        "X_train, X_test, Y_train, Y_test = train_test_split(X,Y,test_size=0.2,random_state=1) ## splitting the features into 20% test set and 80% training set"
      ],
      "metadata": {
        "id": "zk07MUDfk1e8"
      },
      "execution_count": null,
      "outputs": []
    },
    {
      "cell_type": "code",
      "source": [
        "X_train.shape #25 examples are used for training the model"
      ],
      "metadata": {
        "colab": {
          "base_uri": "https://localhost:8080/"
        },
        "id": "LbKsvGbRlqgI",
        "outputId": "cd817747-ddf4-4c79-fadf-c6ec07886ee5"
      },
      "execution_count": null,
      "outputs": [
        {
          "output_type": "execute_result",
          "data": {
            "text/plain": [
              "(25, 4)"
            ]
          },
          "metadata": {},
          "execution_count": 44
        }
      ]
    },
    {
      "cell_type": "code",
      "source": [
        "X_test #7 examples are used for testing"
      ],
      "metadata": {
        "colab": {
          "base_uri": "https://localhost:8080/"
        },
        "id": "KwWNpIlYmXvN",
        "outputId": "80610534-652a-473f-afaa-01d58300bff4"
      },
      "execution_count": null,
      "outputs": [
        {
          "output_type": "execute_result",
          "data": {
            "text/plain": [
              "array([[2017, '70.46720000000001', '6.452129304', '6116.059654'],\n",
              "       [1993, '59.8152', '3.091684447', '1880.994675'],\n",
              "       [2012, '67.88720000000001', '5.538719796', '4529.016173'],\n",
              "       [2008, '66.149', '4.8508435', '3698.175689'],\n",
              "       [2013, '68.4598', '5.775529669', '4758.303085'],\n",
              "       [2007, '65.7884', '4.743715224', '3646.928626'],\n",
              "       [2011, '67.35899999999999', '5.301909924', '4361.090551']],\n",
              "      dtype=object)"
            ]
          },
          "metadata": {},
          "execution_count": 45
        }
      ]
    },
    {
      "cell_type": "code",
      "source": [
        "Y_test # test set containing the actual values of the GDI\n"
      ],
      "metadata": {
        "colab": {
          "base_uri": "https://localhost:8080/"
        },
        "id": "hzlcEoI_oQr4",
        "outputId": "e73ea56c-ec76-495c-fb10-ef9096ae37f5"
      },
      "execution_count": null,
      "outputs": [
        {
          "output_type": "execute_result",
          "data": {
            "text/plain": [
              "array(['.851', '.711', '.826', '.797', '.831', '.793',\n",
              "       '.8129999999999999'], dtype=object)"
            ]
          },
          "metadata": {},
          "execution_count": 46
        }
      ]
    },
    {
      "cell_type": "code",
      "source": [
        "from sklearn.linear_model import LinearRegression\n",
        "regressor = LinearRegression()\n",
        "regressor.fit(X_train,Y_train)  #Linear Regression is used for training the model for prediction"
      ],
      "metadata": {
        "colab": {
          "base_uri": "https://localhost:8080/",
          "height": 74
        },
        "id": "T-YGuB7ioos2",
        "outputId": "a0f5a43f-d6c2-4e1e-fd4a-7f206a6bad3b"
      },
      "execution_count": null,
      "outputs": [
        {
          "output_type": "execute_result",
          "data": {
            "text/plain": [
              "LinearRegression()"
            ],
            "text/html": [
              "<style>#sk-container-id-2 {color: black;background-color: white;}#sk-container-id-2 pre{padding: 0;}#sk-container-id-2 div.sk-toggleable {background-color: white;}#sk-container-id-2 label.sk-toggleable__label {cursor: pointer;display: block;width: 100%;margin-bottom: 0;padding: 0.3em;box-sizing: border-box;text-align: center;}#sk-container-id-2 label.sk-toggleable__label-arrow:before {content: \"▸\";float: left;margin-right: 0.25em;color: #696969;}#sk-container-id-2 label.sk-toggleable__label-arrow:hover:before {color: black;}#sk-container-id-2 div.sk-estimator:hover label.sk-toggleable__label-arrow:before {color: black;}#sk-container-id-2 div.sk-toggleable__content {max-height: 0;max-width: 0;overflow: hidden;text-align: left;background-color: #f0f8ff;}#sk-container-id-2 div.sk-toggleable__content pre {margin: 0.2em;color: black;border-radius: 0.25em;background-color: #f0f8ff;}#sk-container-id-2 input.sk-toggleable__control:checked~div.sk-toggleable__content {max-height: 200px;max-width: 100%;overflow: auto;}#sk-container-id-2 input.sk-toggleable__control:checked~label.sk-toggleable__label-arrow:before {content: \"▾\";}#sk-container-id-2 div.sk-estimator input.sk-toggleable__control:checked~label.sk-toggleable__label {background-color: #d4ebff;}#sk-container-id-2 div.sk-label input.sk-toggleable__control:checked~label.sk-toggleable__label {background-color: #d4ebff;}#sk-container-id-2 input.sk-hidden--visually {border: 0;clip: rect(1px 1px 1px 1px);clip: rect(1px, 1px, 1px, 1px);height: 1px;margin: -1px;overflow: hidden;padding: 0;position: absolute;width: 1px;}#sk-container-id-2 div.sk-estimator {font-family: monospace;background-color: #f0f8ff;border: 1px dotted black;border-radius: 0.25em;box-sizing: border-box;margin-bottom: 0.5em;}#sk-container-id-2 div.sk-estimator:hover {background-color: #d4ebff;}#sk-container-id-2 div.sk-parallel-item::after {content: \"\";width: 100%;border-bottom: 1px solid gray;flex-grow: 1;}#sk-container-id-2 div.sk-label:hover label.sk-toggleable__label {background-color: #d4ebff;}#sk-container-id-2 div.sk-serial::before {content: \"\";position: absolute;border-left: 1px solid gray;box-sizing: border-box;top: 0;bottom: 0;left: 50%;z-index: 0;}#sk-container-id-2 div.sk-serial {display: flex;flex-direction: column;align-items: center;background-color: white;padding-right: 0.2em;padding-left: 0.2em;position: relative;}#sk-container-id-2 div.sk-item {position: relative;z-index: 1;}#sk-container-id-2 div.sk-parallel {display: flex;align-items: stretch;justify-content: center;background-color: white;position: relative;}#sk-container-id-2 div.sk-item::before, #sk-container-id-2 div.sk-parallel-item::before {content: \"\";position: absolute;border-left: 1px solid gray;box-sizing: border-box;top: 0;bottom: 0;left: 50%;z-index: -1;}#sk-container-id-2 div.sk-parallel-item {display: flex;flex-direction: column;z-index: 1;position: relative;background-color: white;}#sk-container-id-2 div.sk-parallel-item:first-child::after {align-self: flex-end;width: 50%;}#sk-container-id-2 div.sk-parallel-item:last-child::after {align-self: flex-start;width: 50%;}#sk-container-id-2 div.sk-parallel-item:only-child::after {width: 0;}#sk-container-id-2 div.sk-dashed-wrapped {border: 1px dashed gray;margin: 0 0.4em 0.5em 0.4em;box-sizing: border-box;padding-bottom: 0.4em;background-color: white;}#sk-container-id-2 div.sk-label label {font-family: monospace;font-weight: bold;display: inline-block;line-height: 1.2em;}#sk-container-id-2 div.sk-label-container {text-align: center;}#sk-container-id-2 div.sk-container {/* jupyter's `normalize.less` sets `[hidden] { display: none; }` but bootstrap.min.css set `[hidden] { display: none !important; }` so we also need the `!important` here to be able to override the default hidden behavior on the sphinx rendered scikit-learn.org. See: https://github.com/scikit-learn/scikit-learn/issues/21755 */display: inline-block !important;position: relative;}#sk-container-id-2 div.sk-text-repr-fallback {display: none;}</style><div id=\"sk-container-id-2\" class=\"sk-top-container\"><div class=\"sk-text-repr-fallback\"><pre>LinearRegression()</pre><b>In a Jupyter environment, please rerun this cell to show the HTML representation or trust the notebook. <br />On GitHub, the HTML representation is unable to render, please try loading this page with nbviewer.org.</b></div><div class=\"sk-container\" hidden><div class=\"sk-item\"><div class=\"sk-estimator sk-toggleable\"><input class=\"sk-toggleable__control sk-hidden--visually\" id=\"sk-estimator-id-2\" type=\"checkbox\" checked><label for=\"sk-estimator-id-2\" class=\"sk-toggleable__label sk-toggleable__label-arrow\">LinearRegression</label><div class=\"sk-toggleable__content\"><pre>LinearRegression()</pre></div></div></div></div></div>"
            ]
          },
          "metadata": {},
          "execution_count": 47
        }
      ]
    },
    {
      "cell_type": "code",
      "source": [
        "X_test   # features in the test set"
      ],
      "metadata": {
        "colab": {
          "base_uri": "https://localhost:8080/"
        },
        "id": "Fuw7VaYSo4N0",
        "outputId": "88cbcd85-6e42-486d-ad09-afb5c9cb49b6"
      },
      "execution_count": null,
      "outputs": [
        {
          "output_type": "execute_result",
          "data": {
            "text/plain": [
              "array([[2017, '70.46720000000001', '6.452129304', '6116.059654'],\n",
              "       [1993, '59.8152', '3.091684447', '1880.994675'],\n",
              "       [2012, '67.88720000000001', '5.538719796', '4529.016173'],\n",
              "       [2008, '66.149', '4.8508435', '3698.175689'],\n",
              "       [2013, '68.4598', '5.775529669', '4758.303085'],\n",
              "       [2007, '65.7884', '4.743715224', '3646.928626'],\n",
              "       [2011, '67.35899999999999', '5.301909924', '4361.090551']],\n",
              "      dtype=object)"
            ]
          },
          "metadata": {},
          "execution_count": 48
        }
      ]
    },
    {
      "cell_type": "code",
      "source": [
        "Y_test   # actual values corresponding to the years present in the first column of X_test"
      ],
      "metadata": {
        "colab": {
          "base_uri": "https://localhost:8080/"
        },
        "id": "vJAYIu66pSYr",
        "outputId": "fbd54835-6318-40b3-f1c4-ab06c474b158"
      },
      "execution_count": null,
      "outputs": [
        {
          "output_type": "execute_result",
          "data": {
            "text/plain": [
              "array(['.851', '.711', '.826', '.797', '.831', '.793',\n",
              "       '.8129999999999999'], dtype=object)"
            ]
          },
          "metadata": {},
          "execution_count": 49
        }
      ]
    },
    {
      "cell_type": "code",
      "source": [
        "Y_pred = regressor.predict(X_test)\n",
        "Y_pred        # corresponding predicted values"
      ],
      "metadata": {
        "colab": {
          "base_uri": "https://localhost:8080/"
        },
        "id": "pPRbQFr0pX4c",
        "outputId": "8153b18a-1e7d-4fc2-af72-b80d74ee1a87"
      },
      "execution_count": null,
      "outputs": [
        {
          "output_type": "execute_result",
          "data": {
            "text/plain": [
              "array([0.84651768, 0.71508153, 0.82020824, 0.79861582, 0.82641418,\n",
              "       0.79302001, 0.81389657])"
            ]
          },
          "metadata": {},
          "execution_count": 50
        }
      ]
    },
    {
      "cell_type": "markdown",
      "source": [
        "Calculating R2 Score"
      ],
      "metadata": {
        "id": "zOkAOlOyE-IV"
      }
    },
    {
      "cell_type": "code",
      "source": [
        "Y_pred = regressor.predict(X_test)\n",
        "from sklearn.metrics import r2_score\n",
        "r2_score(Y_test, Y_pred)  #r2 score        "
      ],
      "metadata": {
        "colab": {
          "base_uri": "https://localhost:8080/"
        },
        "id": "fyaU3sA8pe1m",
        "outputId": "501ed730-f791-4f74-aeb6-fa022cd5c339"
      },
      "execution_count": null,
      "outputs": [
        {
          "output_type": "execute_result",
          "data": {
            "text/plain": [
              "0.9923081500796138"
            ]
          },
          "metadata": {},
          "execution_count": 51
        }
      ]
    },
    {
      "cell_type": "markdown",
      "source": [
        "Calculating Mean Squared Error"
      ],
      "metadata": {
        "id": "soOwb2bHFCax"
      }
    },
    {
      "cell_type": "code",
      "source": [
        "Y_pred = regressor.predict(X_test)\n",
        "from sklearn.metrics import mean_squared_error\n",
        "mean_squared_error(Y_test, Y_pred)"
      ],
      "metadata": {
        "colab": {
          "base_uri": "https://localhost:8080/"
        },
        "id": "Lx8j8zkfpp0H",
        "outputId": "93b1304c-d93f-472e-b15a-1acd3c231b80"
      },
      "execution_count": null,
      "outputs": [
        {
          "output_type": "execute_result",
          "data": {
            "text/plain": [
              "1.3534202376241883e-05"
            ]
          },
          "metadata": {},
          "execution_count": 52
        }
      ]
    },
    {
      "cell_type": "code",
      "source": [
        "Y_train_preds = regressor.predict(X_train)\n",
        "Y_train_preds"
      ],
      "metadata": {
        "colab": {
          "base_uri": "https://localhost:8080/"
        },
        "id": "Bq8c_Mmor8Yc",
        "outputId": "afa76456-54d4-445f-8994-48c90a16f2e9"
      },
      "execution_count": null,
      "outputs": [
        {
          "output_type": "execute_result",
          "data": {
            "text/plain": [
              "array([0.85006444, 0.80327682, 0.77785937, 0.83245909, 0.75541849,\n",
              "       0.8079762 , 0.84271285, 0.72065859, 0.70949489, 0.8380189 ,\n",
              "       0.73164153, 0.77270795, 0.7377052 , 0.85409584, 0.7037821 ,\n",
              "       0.78822474, 0.69762087, 0.78315274, 0.84427777, 0.85698307,\n",
              "       0.74904881, 0.74352833, 0.76724562, 0.76102738, 0.7260184 ])"
            ]
          },
          "metadata": {},
          "execution_count": 53
        }
      ]
    },
    {
      "cell_type": "code",
      "source": [
        "r2_score(Y_train, Y_train_preds)"
      ],
      "metadata": {
        "colab": {
          "base_uri": "https://localhost:8080/"
        },
        "id": "7u6cfP3_sm-I",
        "outputId": "2f80a30d-288f-4f97-affd-9f75208d8954"
      },
      "execution_count": null,
      "outputs": [
        {
          "output_type": "execute_result",
          "data": {
            "text/plain": [
              "0.9903114328463876"
            ]
          },
          "metadata": {},
          "execution_count": 54
        }
      ]
    },
    {
      "cell_type": "code",
      "source": [
        "years = X_train[:,0]\n",
        "years"
      ],
      "metadata": {
        "colab": {
          "base_uri": "https://localhost:8080/"
        },
        "id": "ptaXb0iGsqQm",
        "outputId": "2b26fb84-43cc-444b-9a65-faa15b43acc7"
      },
      "execution_count": null,
      "outputs": [
        {
          "output_type": "execute_result",
          "data": {
            "text/plain": [
              "array([2018, 2009, 2004, 2014, 2000, 2010, 2016, 1994, 1992, 2015, 1996,\n",
              "       2003, 1997, 2019, 1991, 2006, 1990, 2005, 2021, 2020, 1999, 1998,\n",
              "       2002, 2001, 1995], dtype=object)"
            ]
          },
          "metadata": {},
          "execution_count": 55
        }
      ]
    },
    {
      "cell_type": "code",
      "source": [
        "ShowTogether = np.concatenate((Y_pred.reshape(Y_pred.shape[0],1),Y_test.reshape(Y_test.shape[0],1)),1)\n",
        "ShowTogether              # the right column contains the actual values and the left column contains the predicted values"
      ],
      "metadata": {
        "colab": {
          "base_uri": "https://localhost:8080/"
        },
        "id": "BzZSryqLs5Rs",
        "outputId": "2da26200-d690-4bd6-f005-1993ddb922bd"
      },
      "execution_count": null,
      "outputs": [
        {
          "output_type": "execute_result",
          "data": {
            "text/plain": [
              "array([[0.8465176770953065, '.851'],\n",
              "       [0.7150815315762005, '.711'],\n",
              "       [0.8202082446434416, '.826'],\n",
              "       [0.7986158182787628, '.797'],\n",
              "       [0.8264141788394825, '.831'],\n",
              "       [0.7930200106628105, '.793'],\n",
              "       [0.8138965729424585, '.8129999999999999']], dtype=object)"
            ]
          },
          "metadata": {},
          "execution_count": 56
        }
      ]
    },
    {
      "cell_type": "markdown",
      "source": [
        "Plotting the graph"
      ],
      "metadata": {
        "id": "BBpdkVtyFW21"
      }
    },
    {
      "cell_type": "code",
      "source": [
        "key_value ={}\n",
        "for i in range(years.shape[0]):\n",
        "  key_value[years[i]] = Y_train_preds[i]\n",
        "  "
      ],
      "metadata": {
        "id": "s0qw87O1uTx-"
      },
      "execution_count": null,
      "outputs": []
    },
    {
      "cell_type": "code",
      "source": [
        "final = {}\n",
        "for i in sorted(key_value):\n",
        "  final[i] = key_value[i]"
      ],
      "metadata": {
        "id": "shuDdRLMwzIK"
      },
      "execution_count": null,
      "outputs": []
    },
    {
      "cell_type": "code",
      "source": [
        "list(final.keys())"
      ],
      "metadata": {
        "colab": {
          "base_uri": "https://localhost:8080/"
        },
        "id": "0y2Ey4rTxhxz",
        "outputId": "ef5e43a4-d942-488f-c3b8-6b6213b3380d"
      },
      "execution_count": null,
      "outputs": [
        {
          "output_type": "execute_result",
          "data": {
            "text/plain": [
              "[1990,\n",
              " 1991,\n",
              " 1992,\n",
              " 1994,\n",
              " 1995,\n",
              " 1996,\n",
              " 1997,\n",
              " 1998,\n",
              " 1999,\n",
              " 2000,\n",
              " 2001,\n",
              " 2002,\n",
              " 2003,\n",
              " 2004,\n",
              " 2005,\n",
              " 2006,\n",
              " 2009,\n",
              " 2010,\n",
              " 2014,\n",
              " 2015,\n",
              " 2016,\n",
              " 2018,\n",
              " 2019,\n",
              " 2020,\n",
              " 2021]"
            ]
          },
          "metadata": {},
          "execution_count": 59
        }
      ]
    },
    {
      "cell_type": "code",
      "source": [
        "list(final.values())"
      ],
      "metadata": {
        "colab": {
          "base_uri": "https://localhost:8080/"
        },
        "id": "EjHjOkT7xjwb",
        "outputId": "c62bebde-b270-4eed-c9ac-87896f2da156"
      },
      "execution_count": null,
      "outputs": [
        {
          "output_type": "execute_result",
          "data": {
            "text/plain": [
              "[0.6976208740162235,\n",
              " 0.7037820957888048,\n",
              " 0.7094948918406461,\n",
              " 0.7206585855986836,\n",
              " 0.7260183985427986,\n",
              " 0.7316415324139269,\n",
              " 0.7377052028774642,\n",
              " 0.7435283291347563,\n",
              " 0.7490488147630234,\n",
              " 0.7554184856544062,\n",
              " 0.7610273811596642,\n",
              " 0.7672456231209557,\n",
              " 0.7727079471634033,\n",
              " 0.7778593705381418,\n",
              " 0.7831527367970708,\n",
              " 0.7882247377329694,\n",
              " 0.8032768198949478,\n",
              " 0.8079762032333777,\n",
              " 0.8324590941469046,\n",
              " 0.8380189037516645,\n",
              " 0.8427128461323701,\n",
              " 0.8500644367912118,\n",
              " 0.8540958427795173,\n",
              " 0.8569830743749227,\n",
              " 0.8442777717521546]"
            ]
          },
          "metadata": {},
          "execution_count": 60
        }
      ]
    },
    {
      "cell_type": "code",
      "source": [
        "plt.plot(list(final.keys()),list(final.values()), color='blue')\n",
        "plt.title(\"Gender Development Index (GDI) v/s Year\")\n",
        "plt.xlabel(\"Year\")\n",
        "plt.ylabel(\"Gender Development Index (GDI)\")\n",
        "plt.grid()\n",
        "plt.show()"
      ],
      "metadata": {
        "colab": {
          "base_uri": "https://localhost:8080/",
          "height": 472
        },
        "id": "rx3qNSE3xm5_",
        "outputId": "8145053a-5c01-4832-8105-6f451a42b69f"
      },
      "execution_count": null,
      "outputs": [
        {
          "output_type": "display_data",
          "data": {
            "text/plain": [
              "<Figure size 640x480 with 1 Axes>"
            ],
            "image/png": "[encoded data removed]"
          },
          "metadata": {}
        }
      ]
    }
  ]
}