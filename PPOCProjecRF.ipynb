{
  "nbformat": 4,
  "nbformat_minor": 0,
  "metadata": {
    "colab": {
      "provenance": []
    },
    "kernelspec": {
      "name": "python3",
      "display_name": "Python 3"
    },
    "language_info": {
      "name": "python"
    }
  },
  "cells": [
    {
      "cell_type": "code",
      "execution_count": null,
      "metadata": {
        "id": "CBEqTpkd40uA"
      },
      "outputs": [],
      "source": [
        "import numpy as np\n",
        "import matplotlib.pyplot as plt\n",
        "import pandas as pd"
      ]
    },
    {
      "cell_type": "markdown",
      "source": [
        "The Following Model predicts **Gender Development Index**.\n",
        "The features used are : *Life Expectancy at Birth*(years), *Mean Years of Schooling*(years) and *Gross National Income Per Capita (PPP$)*"
      ],
      "metadata": {
        "id": "DAIAL_gl4ez4"
      }
    },
    {
      "cell_type": "code",
      "source": [
        "dataset = pd.read_csv('/content/India.csv')\n",
        "print(dataset)"
      ],
      "metadata": {
        "colab": {
          "base_uri": "https://localhost:8080/"
        },
        "id": "v3kGX5QaUezg",
        "outputId": "155a873f-0977-46d3-ac6d-56d3f116cbca",
        "collapsed": true
      },
      "execution_count": null,
      "outputs": [
        {
          "output_type": "stream",
          "name": "stdout",
          "text": [
            "                          key        value\n",
            "0                        ISO3          IND\n",
            "1            HDR Country Name        India\n",
            "2    Human Development Groups       Medium\n",
            "3    UNDP Developeing Regions           SA\n",
            "4             HDI Rank (2021)          132\n",
            "..                        ...          ...\n",
            "955                Sanitation  9.112136171\n",
            "956            Drinking water  2.151176198\n",
            "957               Electricity  1.677027292\n",
            "958                   Housing  10.98558323\n",
            "959                    Assets  4.523061673\n",
            "\n",
            "[960 rows x 2 columns]\n"
          ]
        }
      ]
    },
    {
      "cell_type": "markdown",
      "source": [
        "Creating an array of Years"
      ],
      "metadata": {
        "id": "IOQUfIr3dtoJ"
      }
    },
    {
      "cell_type": "code",
      "source": [
        "X1 = np.arange(1990,2022)\n",
        "print (X1)"
      ],
      "metadata": {
        "colab": {
          "base_uri": "https://localhost:8080/"
        },
        "id": "t1H2JJC1dofT",
        "outputId": "e9e3dd7e-b1c8-4eb5-b245-bc976150a95b"
      },
      "execution_count": null,
      "outputs": [
        {
          "output_type": "stream",
          "name": "stdout",
          "text": [
            "[1990 1991 1992 1993 1994 1995 1996 1997 1998 1999 2000 2001 2002 2003\n",
            " 2004 2005 2006 2007 2008 2009 2010 2011 2012 2013 2014 2015 2016 2017\n",
            " 2018 2019 2020 2021]\n"
          ]
        }
      ]
    },
    {
      "cell_type": "markdown",
      "source": [
        "Creating an Array for Life Expectancy at Birth"
      ],
      "metadata": {
        "id": "ujf8tEsubenp"
      }
    },
    {
      "cell_type": "code",
      "source": [
        "X2 = dataset.iloc[37:69,1].values\n",
        "print (X2)"
      ],
      "metadata": {
        "id": "vUrp7QMgVTM4",
        "colab": {
          "base_uri": "https://localhost:8080/"
        },
        "outputId": "8d759934-fc08-4fa5-82ad-8b0132357662"
      },
      "execution_count": null,
      "outputs": [
        {
          "output_type": "stream",
          "name": "stdout",
          "text": [
            "['58.6516' '59.0547' '59.4524' '59.8152' '60.2158' '60.5962' '60.9841'\n",
            " '61.3876' '61.7919' '62.2069' '62.6693' '63.0913' '63.616' '64.0942'\n",
            " '64.5244' '64.99550000000001' '65.4123' '65.7884' '66.149' '66.5132'\n",
            " '66.90860000000001' '67.35899999999999' '67.88720000000001' '68.4598'\n",
            " '69.0736' '69.63630000000001' '70.11669999999999' '70.46720000000001'\n",
            " '70.70950000000001' '70.9098' '70.1499' '67.2398']\n"
          ]
        }
      ]
    },
    {
      "cell_type": "markdown",
      "source": [
        "Creating an array for Mean years of Schooling"
      ],
      "metadata": {
        "id": "0rohIUCmbk2K"
      }
    },
    {
      "cell_type": "code",
      "source": [
        "X3 = dataset.iloc[101:133,1].values\n",
        "print (X3)"
      ],
      "metadata": {
        "colab": {
          "base_uri": "https://localhost:8080/"
        },
        "id": "PQ4y5o8Waq9v",
        "outputId": "bd5f37f2-0b95-4f6f-fd03-53b61d660a07"
      },
      "execution_count": null,
      "outputs": [
        {
          "output_type": "stream",
          "name": "stdout",
          "text": [
            "['2.78157628' '2.884945669' '2.988315058' '3.091684447' '3.195053836'\n",
            " '3.298423224' '3.467573133' '3.636723042' '3.805872951' '3.97502286'\n",
            " '4.144172769' '4.22122995' '4.298287131' '4.375344311' '4.452401492'\n",
            " '4.529458673' '4.636586948' '4.743715224' '4.8508435' '4.957971775'\n",
            " '5.065100051' '5.301909924' '5.538719796' '5.775529669' '6.012339541'\n",
            " '6.249149414' '6.350639359' '6.452129304' '6.55361925' '6.655109195'\n",
            " '6.655109195' '6.655109195']\n"
          ]
        }
      ]
    },
    {
      "cell_type": "markdown",
      "source": [
        "Creating an array for GNI per capita (PPP$)"
      ],
      "metadata": {
        "id": "m3yxR1KjejyB"
      }
    },
    {
      "cell_type": "code",
      "source": [
        "X4 = dataset.iloc[133:165,1].values\n",
        "print (X4)"
      ],
      "metadata": {
        "colab": {
          "base_uri": "https://localhost:8080/"
        },
        "id": "lCHqcOKaegsg",
        "outputId": "2b340b83-6d25-4b28-8aad-828cfccb2192"
      },
      "execution_count": null,
      "outputs": [
        {
          "output_type": "stream",
          "name": "stdout",
          "text": [
            "['1790.407349' '1768.858819' '1828.853344' '1880.994675' '1969.856125'\n",
            " '2082.000116' '2201.077996' '2249.544553' '2345.162554' '2509.046377'\n",
            " '2552.804903' '2634.934649' '2694.230739' '2856.486272' '3034.450608'\n",
            " '3222.757097' '3426.91817' '3646.928626' '3698.175689' '3933.116277'\n",
            " '4189.433074' '4361.090551' '4529.016173' '4758.303085' '5056.665926'\n",
            " '5401.490996' '5732.913931' '6116.059654' '6449.18609' '6650.054097'\n",
            " '6107.493949' '6589.980037']\n"
          ]
        }
      ]
    },
    {
      "cell_type": "markdown",
      "source": [
        "Creating array X using arrays X1, X2, X3, X4"
      ],
      "metadata": {
        "id": "p5BLtMeW7Z3r"
      }
    },
    {
      "cell_type": "code",
      "source": [
        "print(X1.shape)\n",
        "print(X2.shape)\n",
        "print(X3.shape)\n",
        "print(X4.shape)\n",
        "X1 = X1.reshape(X1.shape[0],1)\n",
        "X2 = X2.reshape(X2.shape[0],1)\n",
        "X3 = X3.reshape(X3.shape[0],1)\n",
        "X4 = X4.reshape(X4.shape[0],1)\n",
        "X = np.append(X1,X2,axis=1)\n",
        "X = np.append(X,X3,axis=1)\n",
        "X = np.append(X,X4,axis=1)"
      ],
      "metadata": {
        "colab": {
          "base_uri": "https://localhost:8080/"
        },
        "id": "xFqSSuUJdDR4",
        "outputId": "10e66e51-9ef3-4c93-b729-aa5b59b59bde"
      },
      "execution_count": null,
      "outputs": [
        {
          "output_type": "stream",
          "name": "stdout",
          "text": [
            "(32,)\n",
            "(32,)\n",
            "(32,)\n",
            "(32,)\n"
          ]
        }
      ]
    },
    {
      "cell_type": "code",
      "source": [
        "print (X.shape)"
      ],
      "metadata": {
        "colab": {
          "base_uri": "https://localhost:8080/"
        },
        "id": "fgOqchycdOCX",
        "outputId": "79209f98-21b7-4f56-ad05-4eeddd6cff73"
      },
      "execution_count": null,
      "outputs": [
        {
          "output_type": "stream",
          "name": "stdout",
          "text": [
            "(32, 4)\n"
          ]
        }
      ]
    },
    {
      "cell_type": "code",
      "source": [
        "X #contains four columns (year, corresponding Life Expectancy (yrs), corresponding Mean years of schooling(yrs) and corresponding Gross National Income per capita (PPP$))"
      ],
      "metadata": {
        "colab": {
          "base_uri": "https://localhost:8080/"
        },
        "id": "mmhn7mFWhAzp",
        "outputId": "61ec7c17-a5ae-47e7-ee7a-d2a092cb4ec0"
      },
      "execution_count": null,
      "outputs": [
        {
          "output_type": "execute_result",
          "data": {
            "text/plain": [
              "array([[1990, '58.6516', '2.78157628', '1790.407349'],\n",
              "       [1991, '59.0547', '2.884945669', '1768.858819'],\n",
              "       [1992, '59.4524', '2.988315058', '1828.853344'],\n",
              "       [1993, '59.8152', '3.091684447', '1880.994675'],\n",
              "       [1994, '60.2158', '3.195053836', '1969.856125'],\n",
              "       [1995, '60.5962', '3.298423224', '2082.000116'],\n",
              "       [1996, '60.9841', '3.467573133', '2201.077996'],\n",
              "       [1997, '61.3876', '3.636723042', '2249.544553'],\n",
              "       [1998, '61.7919', '3.805872951', '2345.162554'],\n",
              "       [1999, '62.2069', '3.97502286', '2509.046377'],\n",
              "       [2000, '62.6693', '4.144172769', '2552.804903'],\n",
              "       [2001, '63.0913', '4.22122995', '2634.934649'],\n",
              "       [2002, '63.616', '4.298287131', '2694.230739'],\n",
              "       [2003, '64.0942', '4.375344311', '2856.486272'],\n",
              "       [2004, '64.5244', '4.452401492', '3034.450608'],\n",
              "       [2005, '64.99550000000001', '4.529458673', '3222.757097'],\n",
              "       [2006, '65.4123', '4.636586948', '3426.91817'],\n",
              "       [2007, '65.7884', '4.743715224', '3646.928626'],\n",
              "       [2008, '66.149', '4.8508435', '3698.175689'],\n",
              "       [2009, '66.5132', '4.957971775', '3933.116277'],\n",
              "       [2010, '66.90860000000001', '5.065100051', '4189.433074'],\n",
              "       [2011, '67.35899999999999', '5.301909924', '4361.090551'],\n",
              "       [2012, '67.88720000000001', '5.538719796', '4529.016173'],\n",
              "       [2013, '68.4598', '5.775529669', '4758.303085'],\n",
              "       [2014, '69.0736', '6.012339541', '5056.665926'],\n",
              "       [2015, '69.63630000000001', '6.249149414', '5401.490996'],\n",
              "       [2016, '70.11669999999999', '6.350639359', '5732.913931'],\n",
              "       [2017, '70.46720000000001', '6.452129304', '6116.059654'],\n",
              "       [2018, '70.70950000000001', '6.55361925', '6449.18609'],\n",
              "       [2019, '70.9098', '6.655109195', '6650.054097'],\n",
              "       [2020, '70.1499', '6.655109195', '6107.493949'],\n",
              "       [2021, '67.2398', '6.655109195', '6589.980037']], dtype=object)"
            ]
          },
          "metadata": {},
          "execution_count": 33
        }
      ]
    },
    {
      "cell_type": "markdown",
      "source": [
        "Creating an Array of actual corresponding Gender Development Index (GDI) values"
      ],
      "metadata": {
        "id": "Y4RqiWb09_8O"
      }
    },
    {
      "cell_type": "code",
      "source": [
        "Y = dataset.iloc[166:198,1].values\n",
        "print(Y.shape)\n",
        "Y"
      ],
      "metadata": {
        "colab": {
          "base_uri": "https://localhost:8080/"
        },
        "id": "PDOBcbkShisi",
        "outputId": "e961cda6-1b64-42f6-98c0-08e51e6c7dfb"
      },
      "execution_count": null,
      "outputs": [
        {
          "output_type": "stream",
          "name": "stdout",
          "text": [
            "(32,)\n"
          ]
        },
        {
          "output_type": "execute_result",
          "data": {
            "text/plain": [
              "array(['.707', '.707', '.71', '.711', '.714', '.717', '.726', '.734',\n",
              "       '.741', '.75', '.757', '.759', '.763', '.78', '.784', '.787',\n",
              "       '.79', '.793', '.797', '.803', '.8100000000000001',\n",
              "       '.8129999999999999', '.826', '.831', '.835', '.838', '.848',\n",
              "       '.851', '.849', '.852', '.845', '.849'], dtype=object)"
            ]
          },
          "metadata": {},
          "execution_count": 31
        }
      ]
    },
    {
      "cell_type": "markdown",
      "source": [
        "Splitting the examples for training and testing the model"
      ],
      "metadata": {
        "id": "g_OqTwcL9-RE"
      }
    },
    {
      "cell_type": "code",
      "source": [
        "from sklearn.model_selection import train_test_split\n",
        "X_train, X_test, Y_train, Y_test = train_test_split(X,Y,test_size=0.2,random_state=1) ## splitting the features into 20% test set and 80% training set"
      ],
      "metadata": {
        "id": "zk07MUDfk1e8"
      },
      "execution_count": null,
      "outputs": []
    },
    {
      "cell_type": "code",
      "source": [
        "X_train.shape #25 examples are used for training the model"
      ],
      "metadata": {
        "colab": {
          "base_uri": "https://localhost:8080/"
        },
        "id": "LbKsvGbRlqgI",
        "outputId": "78b1eb59-d56f-4bc6-e295-46b03ddeeb5a"
      },
      "execution_count": null,
      "outputs": [
        {
          "output_type": "execute_result",
          "data": {
            "text/plain": [
              "(25, 4)"
            ]
          },
          "metadata": {},
          "execution_count": 13
        }
      ]
    },
    {
      "cell_type": "code",
      "source": [
        "X_test #7 examples are used for testing"
      ],
      "metadata": {
        "colab": {
          "base_uri": "https://localhost:8080/"
        },
        "id": "KwWNpIlYmXvN",
        "outputId": "36661d86-f17d-4d42-b855-6e36283dc045"
      },
      "execution_count": null,
      "outputs": [
        {
          "output_type": "execute_result",
          "data": {
            "text/plain": [
              "array([[2017, '70.46720000000001', '6.452129304', '6116.059654'],\n",
              "       [1993, '59.8152', '3.091684447', '1880.994675'],\n",
              "       [2012, '67.88720000000001', '5.538719796', '4529.016173'],\n",
              "       [2008, '66.149', '4.8508435', '3698.175689'],\n",
              "       [2013, '68.4598', '5.775529669', '4758.303085'],\n",
              "       [2007, '65.7884', '4.743715224', '3646.928626'],\n",
              "       [2011, '67.35899999999999', '5.301909924', '4361.090551']],\n",
              "      dtype=object)"
            ]
          },
          "metadata": {},
          "execution_count": 14
        }
      ]
    },
    {
      "cell_type": "code",
      "source": [
        "Y_test # test set containing the actual values of the GDI\n"
      ],
      "metadata": {
        "colab": {
          "base_uri": "https://localhost:8080/"
        },
        "id": "hzlcEoI_oQr4",
        "outputId": "4d095279-6fbf-4a36-d6fa-5c88add17180"
      },
      "execution_count": null,
      "outputs": [
        {
          "output_type": "execute_result",
          "data": {
            "text/plain": [
              "array(['.851', '.711', '.826', '.797', '.831', '.793',\n",
              "       '.8129999999999999'], dtype=object)"
            ]
          },
          "metadata": {},
          "execution_count": 15
        }
      ]
    },
    {
      "cell_type": "code",
      "source": [
        "from sklearn.ensemble import RandomForestRegressor\n",
        "regressor = RandomForestRegressor(n_estimators = 10, random_state = 0)\n",
        "regressor.fit(X_train, Y_train)     #Random Forest Regression is used for training the model for prediction"
      ],
      "metadata": {
        "colab": {
          "base_uri": "https://localhost:8080/",
          "height": 74
        },
        "id": "T-YGuB7ioos2",
        "outputId": "9f97fe43-2267-4dfc-d520-6d737a0a0837"
      },
      "execution_count": null,
      "outputs": [
        {
          "output_type": "execute_result",
          "data": {
            "text/plain": [
              "RandomForestRegressor(n_estimators=10, random_state=0)"
            ],
            "text/html": [
              "<style>#sk-container-id-1 {color: black;background-color: white;}#sk-container-id-1 pre{padding: 0;}#sk-container-id-1 div.sk-toggleable {background-color: white;}#sk-container-id-1 label.sk-toggleable__label {cursor: pointer;display: block;width: 100%;margin-bottom: 0;padding: 0.3em;box-sizing: border-box;text-align: center;}#sk-container-id-1 label.sk-toggleable__label-arrow:before {content: \"▸\";float: left;margin-right: 0.25em;color: #696969;}#sk-container-id-1 label.sk-toggleable__label-arrow:hover:before {color: black;}#sk-container-id-1 div.sk-estimator:hover label.sk-toggleable__label-arrow:before {color: black;}#sk-container-id-1 div.sk-toggleable__content {max-height: 0;max-width: 0;overflow: hidden;text-align: left;background-color: #f0f8ff;}#sk-container-id-1 div.sk-toggleable__content pre {margin: 0.2em;color: black;border-radius: 0.25em;background-color: #f0f8ff;}#sk-container-id-1 input.sk-toggleable__control:checked~div.sk-toggleable__content {max-height: 200px;max-width: 100%;overflow: auto;}#sk-container-id-1 input.sk-toggleable__control:checked~label.sk-toggleable__label-arrow:before {content: \"▾\";}#sk-container-id-1 div.sk-estimator input.sk-toggleable__control:checked~label.sk-toggleable__label {background-color: #d4ebff;}#sk-container-id-1 div.sk-label input.sk-toggleable__control:checked~label.sk-toggleable__label {background-color: #d4ebff;}#sk-container-id-1 input.sk-hidden--visually {border: 0;clip: rect(1px 1px 1px 1px);clip: rect(1px, 1px, 1px, 1px);height: 1px;margin: -1px;overflow: hidden;padding: 0;position: absolute;width: 1px;}#sk-container-id-1 div.sk-estimator {font-family: monospace;background-color: #f0f8ff;border: 1px dotted black;border-radius: 0.25em;box-sizing: border-box;margin-bottom: 0.5em;}#sk-container-id-1 div.sk-estimator:hover {background-color: #d4ebff;}#sk-container-id-1 div.sk-parallel-item::after {content: \"\";width: 100%;border-bottom: 1px solid gray;flex-grow: 1;}#sk-container-id-1 div.sk-label:hover label.sk-toggleable__label {background-color: #d4ebff;}#sk-container-id-1 div.sk-serial::before {content: \"\";position: absolute;border-left: 1px solid gray;box-sizing: border-box;top: 0;bottom: 0;left: 50%;z-index: 0;}#sk-container-id-1 div.sk-serial {display: flex;flex-direction: column;align-items: center;background-color: white;padding-right: 0.2em;padding-left: 0.2em;position: relative;}#sk-container-id-1 div.sk-item {position: relative;z-index: 1;}#sk-container-id-1 div.sk-parallel {display: flex;align-items: stretch;justify-content: center;background-color: white;position: relative;}#sk-container-id-1 div.sk-item::before, #sk-container-id-1 div.sk-parallel-item::before {content: \"\";position: absolute;border-left: 1px solid gray;box-sizing: border-box;top: 0;bottom: 0;left: 50%;z-index: -1;}#sk-container-id-1 div.sk-parallel-item {display: flex;flex-direction: column;z-index: 1;position: relative;background-color: white;}#sk-container-id-1 div.sk-parallel-item:first-child::after {align-self: flex-end;width: 50%;}#sk-container-id-1 div.sk-parallel-item:last-child::after {align-self: flex-start;width: 50%;}#sk-container-id-1 div.sk-parallel-item:only-child::after {width: 0;}#sk-container-id-1 div.sk-dashed-wrapped {border: 1px dashed gray;margin: 0 0.4em 0.5em 0.4em;box-sizing: border-box;padding-bottom: 0.4em;background-color: white;}#sk-container-id-1 div.sk-label label {font-family: monospace;font-weight: bold;display: inline-block;line-height: 1.2em;}#sk-container-id-1 div.sk-label-container {text-align: center;}#sk-container-id-1 div.sk-container {/* jupyter's `normalize.less` sets `[hidden] { display: none; }` but bootstrap.min.css set `[hidden] { display: none !important; }` so we also need the `!important` here to be able to override the default hidden behavior on the sphinx rendered scikit-learn.org. See: https://github.com/scikit-learn/scikit-learn/issues/21755 */display: inline-block !important;position: relative;}#sk-container-id-1 div.sk-text-repr-fallback {display: none;}</style><div id=\"sk-container-id-1\" class=\"sk-top-container\"><div class=\"sk-text-repr-fallback\"><pre>RandomForestRegressor(n_estimators=10, random_state=0)</pre><b>In a Jupyter environment, please rerun this cell to show the HTML representation or trust the notebook. <br />On GitHub, the HTML representation is unable to render, please try loading this page with nbviewer.org.</b></div><div class=\"sk-container\" hidden><div class=\"sk-item\"><div class=\"sk-estimator sk-toggleable\"><input class=\"sk-toggleable__control sk-hidden--visually\" id=\"sk-estimator-id-1\" type=\"checkbox\" checked><label for=\"sk-estimator-id-1\" class=\"sk-toggleable__label sk-toggleable__label-arrow\">RandomForestRegressor</label><div class=\"sk-toggleable__content\"><pre>RandomForestRegressor(n_estimators=10, random_state=0)</pre></div></div></div></div></div>"
            ]
          },
          "metadata": {},
          "execution_count": 16
        }
      ]
    },
    {
      "cell_type": "code",
      "source": [
        "X_test   # features in the test set"
      ],
      "metadata": {
        "colab": {
          "base_uri": "https://localhost:8080/"
        },
        "id": "Fuw7VaYSo4N0",
        "outputId": "3cb3b41f-40f5-440b-9bbf-7633d484185c"
      },
      "execution_count": null,
      "outputs": [
        {
          "output_type": "execute_result",
          "data": {
            "text/plain": [
              "array([[2017, '70.46720000000001', '6.452129304', '6116.059654'],\n",
              "       [1993, '59.8152', '3.091684447', '1880.994675'],\n",
              "       [2012, '67.88720000000001', '5.538719796', '4529.016173'],\n",
              "       [2008, '66.149', '4.8508435', '3698.175689'],\n",
              "       [2013, '68.4598', '5.775529669', '4758.303085'],\n",
              "       [2007, '65.7884', '4.743715224', '3646.928626'],\n",
              "       [2011, '67.35899999999999', '5.301909924', '4361.090551']],\n",
              "      dtype=object)"
            ]
          },
          "metadata": {},
          "execution_count": 17
        }
      ]
    },
    {
      "cell_type": "code",
      "source": [
        "Y_test   # actual values corresponding to the years present in the first column of X_test"
      ],
      "metadata": {
        "colab": {
          "base_uri": "https://localhost:8080/"
        },
        "id": "vJAYIu66pSYr",
        "outputId": "59dac95e-91ec-4ac6-af64-3c90ae0cec28"
      },
      "execution_count": null,
      "outputs": [
        {
          "output_type": "execute_result",
          "data": {
            "text/plain": [
              "array(['.851', '.711', '.826', '.797', '.831', '.793',\n",
              "       '.8129999999999999'], dtype=object)"
            ]
          },
          "metadata": {},
          "execution_count": 18
        }
      ]
    },
    {
      "cell_type": "code",
      "source": [
        "Y_pred = regressor.predict(X_test)\n",
        "Y_pred        # corresponding predicted values"
      ],
      "metadata": {
        "colab": {
          "base_uri": "https://localhost:8080/"
        },
        "id": "pPRbQFr0pX4c",
        "outputId": "c268df5a-bf15-4e5e-df9f-5d45072ea91e"
      },
      "execution_count": null,
      "outputs": [
        {
          "output_type": "execute_result",
          "data": {
            "text/plain": [
              "array([0.8468, 0.711 , 0.8259, 0.7988, 0.8309, 0.7923, 0.8048])"
            ]
          },
          "metadata": {},
          "execution_count": 19
        }
      ]
    },
    {
      "cell_type": "markdown",
      "source": [
        "Calculating R2 Score"
      ],
      "metadata": {
        "id": "Y1fg_V4x-YMW"
      }
    },
    {
      "cell_type": "code",
      "source": [
        "Y_pred = regressor.predict(X_test)\n",
        "from sklearn.metrics import r2_score\n",
        "r2_score(Y_test, Y_pred) #r2 score         "
      ],
      "metadata": {
        "colab": {
          "base_uri": "https://localhost:8080/"
        },
        "id": "fyaU3sA8pe1m",
        "outputId": "780a612c-d8fe-48c2-d241-d58c4eb385c3"
      },
      "execution_count": null,
      "outputs": [
        {
          "output_type": "execute_result",
          "data": {
            "text/plain": [
              "0.992804170822798"
            ]
          },
          "metadata": {},
          "execution_count": 20
        }
      ]
    },
    {
      "cell_type": "markdown",
      "source": [
        "Calculating Mean Squared Error"
      ],
      "metadata": {
        "id": "Xzpu0FsF_GhZ"
      }
    },
    {
      "cell_type": "code",
      "source": [
        "Y_pred = regressor.predict(X_test)\n",
        "from sklearn.metrics import mean_squared_error\n",
        "mean_squared_error(Y_test, Y_pred)"
      ],
      "metadata": {
        "colab": {
          "base_uri": "https://localhost:8080/"
        },
        "id": "Lx8j8zkfpp0H",
        "outputId": "06d2bda7-ddf2-446e-8131-95e7b71475d7"
      },
      "execution_count": null,
      "outputs": [
        {
          "output_type": "execute_result",
          "data": {
            "text/plain": [
              "1.2661428571428469e-05"
            ]
          },
          "metadata": {},
          "execution_count": 21
        }
      ]
    },
    {
      "cell_type": "code",
      "source": [
        "Y_train_preds = regressor.predict(X_train)\n",
        "Y_train_preds"
      ],
      "metadata": {
        "colab": {
          "base_uri": "https://localhost:8080/"
        },
        "id": "Bq8c_Mmor8Yc",
        "outputId": "7b41e462-f13a-48d3-c065-a8b0541d0a75"
      },
      "execution_count": null,
      "outputs": [
        {
          "output_type": "execute_result",
          "data": {
            "text/plain": [
              "array([0.8482, 0.7988, 0.7811, 0.8365, 0.7576, 0.8048, 0.8444, 0.7151,\n",
              "       0.7096, 0.838 , 0.7274, 0.7753, 0.7315, 0.8503, 0.7087, 0.7907,\n",
              "       0.7087, 0.7843, 0.8418, 0.8459, 0.7471, 0.7396, 0.7612, 0.7584,\n",
              "       0.7163])"
            ]
          },
          "metadata": {},
          "execution_count": 22
        }
      ]
    },
    {
      "cell_type": "code",
      "source": [
        "r2_score(Y_train, Y_train_preds)"
      ],
      "metadata": {
        "colab": {
          "base_uri": "https://localhost:8080/"
        },
        "id": "7u6cfP3_sm-I",
        "outputId": "69cbfbd9-96ef-4243-9945-c37b594df663"
      },
      "execution_count": null,
      "outputs": [
        {
          "output_type": "execute_result",
          "data": {
            "text/plain": [
              "0.9971190595141447"
            ]
          },
          "metadata": {},
          "execution_count": 23
        }
      ]
    },
    {
      "cell_type": "code",
      "source": [
        "years = X_train[:,0]\n",
        "years"
      ],
      "metadata": {
        "colab": {
          "base_uri": "https://localhost:8080/"
        },
        "id": "ptaXb0iGsqQm",
        "outputId": "338ba692-d5f2-4c77-9350-19d4263bfc76"
      },
      "execution_count": null,
      "outputs": [
        {
          "output_type": "execute_result",
          "data": {
            "text/plain": [
              "array([2018, 2009, 2004, 2014, 2000, 2010, 2016, 1994, 1992, 2015, 1996,\n",
              "       2003, 1997, 2019, 1991, 2006, 1990, 2005, 2021, 2020, 1999, 1998,\n",
              "       2002, 2001, 1995], dtype=object)"
            ]
          },
          "metadata": {},
          "execution_count": 24
        }
      ]
    },
    {
      "cell_type": "code",
      "source": [
        "ShowTogether = np.concatenate((Y_pred.reshape(Y_pred.shape[0],1),Y_test.reshape(Y_test.shape[0],1)),1)\n",
        "ShowTogether              # the right column contains the actual values and the left column contains the predicted values"
      ],
      "metadata": {
        "colab": {
          "base_uri": "https://localhost:8080/"
        },
        "id": "BzZSryqLs5Rs",
        "outputId": "b657fbe1-cc05-4bf2-b79d-adebf7470e45"
      },
      "execution_count": null,
      "outputs": [
        {
          "output_type": "execute_result",
          "data": {
            "text/plain": [
              "array([[0.8468, '.851'],\n",
              "       [0.711, '.711'],\n",
              "       [0.8259000000000001, '.826'],\n",
              "       [0.7988, '.797'],\n",
              "       [0.8309000000000001, '.831'],\n",
              "       [0.7923, '.793'],\n",
              "       [0.8048, '.8129999999999999']], dtype=object)"
            ]
          },
          "metadata": {},
          "execution_count": 25
        }
      ]
    },
    {
      "cell_type": "markdown",
      "source": [
        "Plotting the graph"
      ],
      "metadata": {
        "id": "3RIZYbvh_77Q"
      }
    },
    {
      "cell_type": "code",
      "source": [
        "key_value ={}\n",
        "for i in range(years.shape[0]):\n",
        "  key_value[years[i]] = Y_train_preds[i]\n",
        "  "
      ],
      "metadata": {
        "id": "s0qw87O1uTx-"
      },
      "execution_count": null,
      "outputs": []
    },
    {
      "cell_type": "code",
      "source": [
        "final = {}\n",
        "for i in sorted(key_value):\n",
        "  final[i] = key_value[i]"
      ],
      "metadata": {
        "id": "shuDdRLMwzIK"
      },
      "execution_count": null,
      "outputs": []
    },
    {
      "cell_type": "code",
      "source": [
        "list(final.keys())"
      ],
      "metadata": {
        "colab": {
          "base_uri": "https://localhost:8080/"
        },
        "id": "0y2Ey4rTxhxz",
        "outputId": "a22ee55a-c591-4ac7-eb3f-ab801ae232bb"
      },
      "execution_count": null,
      "outputs": [
        {
          "output_type": "execute_result",
          "data": {
            "text/plain": [
              "[1990,\n",
              " 1991,\n",
              " 1992,\n",
              " 1994,\n",
              " 1995,\n",
              " 1996,\n",
              " 1997,\n",
              " 1998,\n",
              " 1999,\n",
              " 2000,\n",
              " 2001,\n",
              " 2002,\n",
              " 2003,\n",
              " 2004,\n",
              " 2005,\n",
              " 2006,\n",
              " 2009,\n",
              " 2010,\n",
              " 2014,\n",
              " 2015,\n",
              " 2016,\n",
              " 2018,\n",
              " 2019,\n",
              " 2020,\n",
              " 2021]"
            ]
          },
          "metadata": {},
          "execution_count": 28
        }
      ]
    },
    {
      "cell_type": "code",
      "source": [
        "list(final.values())"
      ],
      "metadata": {
        "colab": {
          "base_uri": "https://localhost:8080/"
        },
        "id": "EjHjOkT7xjwb",
        "outputId": "5151f9a0-6f22-4ce9-d869-cecc4ef58f99"
      },
      "execution_count": null,
      "outputs": [
        {
          "output_type": "execute_result",
          "data": {
            "text/plain": [
              "[0.7087,\n",
              " 0.7087,\n",
              " 0.7095999999999998,\n",
              " 0.7151,\n",
              " 0.7162999999999999,\n",
              " 0.7274,\n",
              " 0.7314999999999999,\n",
              " 0.7395999999999999,\n",
              " 0.7471,\n",
              " 0.7575999999999999,\n",
              " 0.7584000000000001,\n",
              " 0.7612,\n",
              " 0.7753,\n",
              " 0.7810999999999999,\n",
              " 0.7842999999999999,\n",
              " 0.7907,\n",
              " 0.7988,\n",
              " 0.8048,\n",
              " 0.8365,\n",
              " 0.8379999999999999,\n",
              " 0.8443999999999999,\n",
              " 0.8482000000000001,\n",
              " 0.8503000000000002,\n",
              " 0.8459,\n",
              " 0.8418000000000001]"
            ]
          },
          "metadata": {},
          "execution_count": 29
        }
      ]
    },
    {
      "cell_type": "code",
      "source": [
        "plt.plot(list(final.keys()),list(final.values()), color='blue')\n",
        "plt.title(\"Gender Development Index (GDI) v/s Year\")\n",
        "plt.xlabel(\"Year\")\n",
        "plt.ylabel(\"Gender Development Index (GDI)\")\n",
        "plt.grid()\n",
        "plt.show()"
      ],
      "metadata": {
        "colab": {
          "base_uri": "https://localhost:8080/",
          "height": 472
        },
        "id": "rx3qNSE3xm5_",
        "outputId": "98c707ca-9a5f-40ae-9968-b61d80ac2d62"
      },
      "execution_count": null,
      "outputs": [
        {
          "output_type": "display_data",
          "data": {
            "text/plain": [
              "<Figure size 640x480 with 1 Axes>"
            ],
            "image/png": "[encoded data removed]"
          },
          "metadata": {}
        }
      ]
    }
  ]
}